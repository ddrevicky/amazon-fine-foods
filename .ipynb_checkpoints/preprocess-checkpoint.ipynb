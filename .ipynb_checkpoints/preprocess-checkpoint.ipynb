{
 "cells": [
  {
   "cell_type": "code",
   "execution_count": 4,
   "metadata": {},
   "outputs": [],
   "source": [
    "%reload_ext autoreload\n",
    "%autoreload 2\n",
    "%matplotlib inline"
   ]
  },
  {
   "cell_type": "code",
   "execution_count": 5,
   "metadata": {},
   "outputs": [],
   "source": [
    "from fastai.text import *"
   ]
  },
  {
   "cell_type": "code",
   "execution_count": 6,
   "metadata": {},
   "outputs": [],
   "source": [
    "data_path = Config.data_path()/'amazon-fine-foods'; data_path.mkdir(parents=True, exist_ok=True)"
   ]
  },
  {
   "cell_type": "code",
   "execution_count": 7,
   "metadata": {},
   "outputs": [
    {
     "name": "stdout",
     "output_type": "stream",
     "text": [
      "product/productId: B001E4KFG0\n",
      "review/userId: A3SGXH7AUHU8GW\n",
      "review/profileName: delmartian\n",
      "review/helpfulness: 1/1\n",
      "review/score: 5.0\n",
      "review/time: 1303862400\n",
      "review/summary: Good Quality Dog Food\n",
      "review/text: I have bought several of the Vitality canned dog food products and have found them all to be of good quality. The product looks more like a stew than a processed meat and it smells better. My Labrador is finicky and she appreciates this product better than  most.\n",
      "\n",
      "product/productId: B00813GRG4\n",
      "review/userId: A1D87F6ZCVE5NK\n",
      "review/profileName: dll pa\n",
      "review/helpfulness: 0/0\n",
      "review/score: 1.0\n",
      "review/time: 1346976000\n",
      "review/summary: Not as Advertised\n",
      "review/text: Product arrived labeled as Jumbo Salted Peanuts...the peanuts were actually small sized unsalted. Not sure if this was an error or if the vendor intended to represent the product as \"Jumbo\".\n",
      "\n",
      "product/productId: B000LQOCH0\n",
      "review/userId: ABXLMWJIXXAIN\n",
      "review/profileName: Natalia Corres \"Natalia Corres\"\n",
      "review/helpfulness: 1/1\n",
      "review/score: 4.0\n",
      "review/time: 1219017600\n",
      "review/summary: \"Delight\" says it all\n",
      "review/text: This is a confection that has been around a few centuries.  It is a light, pillowy citrus gelatin with nuts - in this case Filberts. And it is cut into tiny squares and then liberally coated with powdered sugar.  And it is a tiny mouthful of heaven.  Not too chewy, and very flavorful.  I highly recommend this yummy treat.  If you are familiar with the story of C.S. Lewis' \"The Lion, The Witch, and The Wardrobe\" - this is the treat that seduces Edmund into selling out his Brother and Sisters to the Witch.\n"
     ]
    }
   ],
   "source": [
    "!cat {data_path}/'sample.txt'"
   ]
  },
  {
   "cell_type": "code",
   "execution_count": 25,
   "metadata": {},
   "outputs": [],
   "source": [
    "txt_file = data_path/'sample.txt'\n",
    "txt_file = data_path/'finefoods.txt'"
   ]
  },
  {
   "cell_type": "code",
   "execution_count": 26,
   "metadata": {},
   "outputs": [
    {
     "data": {
      "text/plain": [
       "568454"
      ]
     },
     "execution_count": 26,
     "metadata": {},
     "output_type": "execute_result"
    }
   ],
   "source": [
    "n_reviews = !grep -o 'product/productId:' {txt_file} | wc -l\n",
    "n_reviews = int(n_reviews[0]); n_reviews"
   ]
  },
  {
   "cell_type": "markdown",
   "metadata": {},
   "source": [
    "Check that the data is correct."
   ]
  },
  {
   "cell_type": "code",
   "execution_count": 126,
   "metadata": {},
   "outputs": [],
   "source": [
    "feature_columns = ['product/productId', 'review/userId', 'review/profileName',\n",
    "                   'review/helpfulness', 'review/score', 'review/time', 'review/summary', 'review/text']"
   ]
  },
  {
   "cell_type": "code",
   "execution_count": 127,
   "metadata": {},
   "outputs": [],
   "source": [
    "df = pd.DataFrame(index=range(n_reviews), columns=feature_columns)"
   ]
  },
  {
   "cell_type": "code",
   "execution_count": 129,
   "metadata": {},
   "outputs": [],
   "source": [
    "with open(txt_file, 'r', encoding='latin-1') as f:\n",
    "    # The last element would be empty since there is a trailing double newline at the end of file\n",
    "    reviews = f.read().split('\\n\\n')[:-1]"
   ]
  },
  {
   "cell_type": "code",
   "execution_count": 130,
   "metadata": {},
   "outputs": [],
   "source": [
    "reviews = [r.split('\\n') for r in reviews]"
   ]
  },
  {
   "cell_type": "markdown",
   "metadata": {},
   "source": [
    "Certain reviews contained an extra line just after the profile name. This messed up creating the dataframe so we delete them."
   ]
  },
  {
   "cell_type": "code",
   "execution_count": 131,
   "metadata": {},
   "outputs": [
    {
     "name": "stdout",
     "output_type": "stream",
     "text": [
      "product/productId: B002RIZUQ2\n",
      "review/userId: AS2DLXUWDK0GP\n",
      "review/profileName: MABEL \"Tell us about yourself!\n",
      "88 years old. ...\n",
      "review/helpfulness: 1/1\n",
      "review/score: 4.0\n",
      "review/time: 1289088000\n",
      "review/summary: delicious\n",
      "review/text: if you prefer a tasteful and less strong flavored coffee, I reommend Green Mountain's hazelnut.  I have not been a coffee drinker, but upon tasting this brew, I drink it daily.\n"
     ]
    }
   ],
   "source": [
    "for l in reviews[94197]: print(l)"
   ]
  },
  {
   "cell_type": "code",
   "execution_count": 132,
   "metadata": {},
   "outputs": [],
   "source": [
    "for i in range(len(reviews)):\n",
    "    if len(reviews[i]) != len(feature_columns):\n",
    "        del reviews[i][3]"
   ]
  },
  {
   "cell_type": "code",
   "execution_count": 138,
   "metadata": {},
   "outputs": [],
   "source": [
    "#regex.match('product/productId: B001E4KFG0').groups()"
   ]
  },
  {
   "cell_type": "code",
   "execution_count": 141,
   "metadata": {},
   "outputs": [
    {
     "data": {
      "text/plain": [
       "['product/productId',\n",
       " 'review/userId',\n",
       " 'review/profileName',\n",
       " 'review/helpfulness',\n",
       " 'review/score',\n",
       " 'review/time',\n",
       " 'review/summary',\n",
       " 'review/text']"
      ]
     },
     "execution_count": 141,
     "metadata": {},
     "output_type": "execute_result"
    }
   ],
   "source": [
    "feature_columns"
   ]
  },
  {
   "cell_type": "code",
   "execution_count": 156,
   "metadata": {},
   "outputs": [
    {
     "name": "stdout",
     "output_type": "stream",
     "text": [
      "0\n",
      "10000\n",
      "20000\n",
      "30000\n",
      "40000\n",
      "50000\n",
      "60000\n",
      "70000\n",
      "80000\n",
      "90000\n",
      "100000\n",
      "110000\n",
      "120000\n",
      "130000\n",
      "140000\n",
      "150000\n",
      "160000\n",
      "170000\n",
      "180000\n",
      "190000\n",
      "200000\n",
      "210000\n",
      "220000\n",
      "230000\n",
      "240000\n",
      "250000\n",
      "260000\n",
      "270000\n",
      "280000\n",
      "290000\n",
      "300000\n",
      "310000\n",
      "320000\n",
      "330000\n",
      "340000\n",
      "350000\n",
      "360000\n",
      "370000\n",
      "380000\n",
      "390000\n",
      "400000\n",
      "410000\n",
      "420000\n",
      "430000\n",
      "440000\n",
      "450000\n",
      "460000\n",
      "470000\n",
      "480000\n",
      "490000\n",
      "500000\n",
      "510000\n",
      "520000\n",
      "530000\n",
      "540000\n",
      "550000\n",
      "560000\n",
      "CPU times: user 6min 8s, sys: 580 ms, total: 6min 9s\n",
      "Wall time: 6min 9s\n"
     ]
    }
   ],
   "source": [
    "%%time\n",
    "regex = re.compile(r\"^([^:]*): (.*)$\") # omits the category suffix such as 'product/productId: '\n",
    "for i, review in enumerate(reviews):\n",
    "    for line in review:\n",
    "        column, data = regex.match(line).groups()\n",
    "        assert (column in feature_columns)\n",
    "        df.iloc[i][column] = data\n",
    "    if i % 100000 == 0: print(i)"
   ]
  },
  {
   "cell_type": "code",
   "execution_count": null,
   "metadata": {},
   "outputs": [],
   "source": [
    "df.to_csv(data_path/'finefoods.csv', index=False)"
   ]
  },
  {
   "cell_type": "code",
   "execution_count": 245,
   "metadata": {},
   "outputs": [],
   "source": [
    "df = pd.read_csv(data_path/'finefoods.csv')"
   ]
  },
  {
   "cell_type": "code",
   "execution_count": 246,
   "metadata": {},
   "outputs": [
    {
     "data": {
      "text/html": [
       "<div>\n",
       "<style scoped>\n",
       "    .dataframe tbody tr th:only-of-type {\n",
       "        vertical-align: middle;\n",
       "    }\n",
       "\n",
       "    .dataframe tbody tr th {\n",
       "        vertical-align: top;\n",
       "    }\n",
       "\n",
       "    .dataframe thead th {\n",
       "        text-align: right;\n",
       "    }\n",
       "</style>\n",
       "<table border=\"1\" class=\"dataframe\">\n",
       "  <thead>\n",
       "    <tr style=\"text-align: right;\">\n",
       "      <th></th>\n",
       "      <th>product/productId</th>\n",
       "      <th>review/userId</th>\n",
       "      <th>review/profileName</th>\n",
       "      <th>review/helpfulness</th>\n",
       "      <th>review/score</th>\n",
       "      <th>review/time</th>\n",
       "      <th>review/summary</th>\n",
       "      <th>review/text</th>\n",
       "    </tr>\n",
       "  </thead>\n",
       "  <tbody>\n",
       "    <tr>\n",
       "      <th>25509</th>\n",
       "      <td>B000LKZB4Y</td>\n",
       "      <td>A36BVYD0NT7Z0F</td>\n",
       "      <td>NaN</td>\n",
       "      <td>0/0</td>\n",
       "      <td>5.0</td>\n",
       "      <td>1314576000</td>\n",
       "      <td>These are the best mints and no aspartame or BHT</td>\n",
       "      <td>I was so shocked to find out that almost all g...</td>\n",
       "    </tr>\n",
       "    <tr>\n",
       "      <th>33958</th>\n",
       "      <td>B00412W76S</td>\n",
       "      <td>A3TJPSWY2HE4BS</td>\n",
       "      <td>S. Layton \"homeschool blogger\"</td>\n",
       "      <td>1/24</td>\n",
       "      <td>2.0</td>\n",
       "      <td>1173312000</td>\n",
       "      <td>NaN</td>\n",
       "      <td>I only used two maybe three tea bags and got p...</td>\n",
       "    </tr>\n",
       "    <tr>\n",
       "      <th>38874</th>\n",
       "      <td>B000AYDGZ2</td>\n",
       "      <td>A36BVYD0NT7Z0F</td>\n",
       "      <td>NaN</td>\n",
       "      <td>2/3</td>\n",
       "      <td>1.0</td>\n",
       "      <td>1278374400</td>\n",
       "      <td>doesn't anyone care that they are putting BHT ...</td>\n",
       "      <td>I called Kellogg's to see why Special K red be...</td>\n",
       "    </tr>\n",
       "    <tr>\n",
       "      <th>40548</th>\n",
       "      <td>B00020HHRW</td>\n",
       "      <td>A3TJPSWY2HE4BS</td>\n",
       "      <td>S. Layton \"homeschool blogger\"</td>\n",
       "      <td>1/24</td>\n",
       "      <td>2.0</td>\n",
       "      <td>1173312000</td>\n",
       "      <td>NaN</td>\n",
       "      <td>I only used two maybe three tea bags and got p...</td>\n",
       "    </tr>\n",
       "    <tr>\n",
       "      <th>49800</th>\n",
       "      <td>B000CRHQN0</td>\n",
       "      <td>A2LYFY32LXQDON</td>\n",
       "      <td>NaN</td>\n",
       "      <td>0/0</td>\n",
       "      <td>2.0</td>\n",
       "      <td>1282608000</td>\n",
       "      <td>They were melted and the chocolate had turned ...</td>\n",
       "      <td>We love these bars but i won't order them ship...</td>\n",
       "    </tr>\n",
       "  </tbody>\n",
       "</table>\n",
       "</div>"
      ],
      "text/plain": [
       "      product/productId   review/userId              review/profileName  \\\n",
       "25509        B000LKZB4Y  A36BVYD0NT7Z0F                             NaN   \n",
       "33958        B00412W76S  A3TJPSWY2HE4BS  S. Layton \"homeschool blogger\"   \n",
       "38874        B000AYDGZ2  A36BVYD0NT7Z0F                             NaN   \n",
       "40548        B00020HHRW  A3TJPSWY2HE4BS  S. Layton \"homeschool blogger\"   \n",
       "49800        B000CRHQN0  A2LYFY32LXQDON                             NaN   \n",
       "\n",
       "      review/helpfulness  review/score  review/time  \\\n",
       "25509                0/0           5.0   1314576000   \n",
       "33958               1/24           2.0   1173312000   \n",
       "38874                2/3           1.0   1278374400   \n",
       "40548               1/24           2.0   1173312000   \n",
       "49800                0/0           2.0   1282608000   \n",
       "\n",
       "                                          review/summary  \\\n",
       "25509   These are the best mints and no aspartame or BHT   \n",
       "33958                                                NaN   \n",
       "38874  doesn't anyone care that they are putting BHT ...   \n",
       "40548                                                NaN   \n",
       "49800  They were melted and the chocolate had turned ...   \n",
       "\n",
       "                                             review/text  \n",
       "25509  I was so shocked to find out that almost all g...  \n",
       "33958  I only used two maybe three tea bags and got p...  \n",
       "38874  I called Kellogg's to see why Special K red be...  \n",
       "40548  I only used two maybe three tea bags and got p...  \n",
       "49800  We love these bars but i won't order them ship...  "
      ]
     },
     "execution_count": 246,
     "metadata": {},
     "output_type": "execute_result"
    }
   ],
   "source": [
    "rows_with_nans = df[df.isnull().any(axis=1)]; rows_with_nans.head()"
   ]
  },
  {
   "cell_type": "code",
   "execution_count": 247,
   "metadata": {},
   "outputs": [
    {
     "name": "stdout",
     "output_type": "stream",
     "text": [
      "(568454, 8)\n",
      "(43, 8)\n"
     ]
    }
   ],
   "source": [
    "print(df.shape)\n",
    "print(rows_with_nans.shape)"
   ]
  },
  {
   "cell_type": "code",
   "execution_count": 248,
   "metadata": {},
   "outputs": [],
   "source": [
    "df = df.drop(list(rows_with_nans.index.values));"
   ]
  },
  {
   "cell_type": "code",
   "execution_count": 249,
   "metadata": {},
   "outputs": [
    {
     "data": {
      "text/plain": [
       "(568411, 8)"
      ]
     },
     "execution_count": 249,
     "metadata": {},
     "output_type": "execute_result"
    }
   ],
   "source": [
    "df.shape"
   ]
  },
  {
   "cell_type": "code",
   "execution_count": 250,
   "metadata": {},
   "outputs": [],
   "source": [
    "separator = ' '\n",
    "df[\"review/summary_and_text\"] = df[\"review/summary\"].map(str) + separator + df[\"review/text\"]"
   ]
  },
  {
   "cell_type": "code",
   "execution_count": 251,
   "metadata": {},
   "outputs": [
    {
     "data": {
      "text/html": [
       "<div>\n",
       "<style scoped>\n",
       "    .dataframe tbody tr th:only-of-type {\n",
       "        vertical-align: middle;\n",
       "    }\n",
       "\n",
       "    .dataframe tbody tr th {\n",
       "        vertical-align: top;\n",
       "    }\n",
       "\n",
       "    .dataframe thead th {\n",
       "        text-align: right;\n",
       "    }\n",
       "</style>\n",
       "<table border=\"1\" class=\"dataframe\">\n",
       "  <thead>\n",
       "    <tr style=\"text-align: right;\">\n",
       "      <th></th>\n",
       "      <th>product/productId</th>\n",
       "      <th>review/userId</th>\n",
       "      <th>review/profileName</th>\n",
       "      <th>review/helpfulness</th>\n",
       "      <th>review/score</th>\n",
       "      <th>review/time</th>\n",
       "      <th>review/summary</th>\n",
       "      <th>review/text</th>\n",
       "      <th>review/summary_and_text</th>\n",
       "    </tr>\n",
       "  </thead>\n",
       "  <tbody>\n",
       "    <tr>\n",
       "      <th>0</th>\n",
       "      <td>B001E4KFG0</td>\n",
       "      <td>A3SGXH7AUHU8GW</td>\n",
       "      <td>delmartian</td>\n",
       "      <td>1/1</td>\n",
       "      <td>5.0</td>\n",
       "      <td>1303862400</td>\n",
       "      <td>Good Quality Dog Food</td>\n",
       "      <td>I have bought several of the Vitality canned d...</td>\n",
       "      <td>Good Quality Dog Food I have bought several of...</td>\n",
       "    </tr>\n",
       "    <tr>\n",
       "      <th>1</th>\n",
       "      <td>B00813GRG4</td>\n",
       "      <td>A1D87F6ZCVE5NK</td>\n",
       "      <td>dll pa</td>\n",
       "      <td>0/0</td>\n",
       "      <td>1.0</td>\n",
       "      <td>1346976000</td>\n",
       "      <td>Not as Advertised</td>\n",
       "      <td>Product arrived labeled as Jumbo Salted Peanut...</td>\n",
       "      <td>Not as Advertised Product arrived labeled as J...</td>\n",
       "    </tr>\n",
       "    <tr>\n",
       "      <th>2</th>\n",
       "      <td>B000LQOCH0</td>\n",
       "      <td>ABXLMWJIXXAIN</td>\n",
       "      <td>Natalia Corres \"Natalia Corres\"</td>\n",
       "      <td>1/1</td>\n",
       "      <td>4.0</td>\n",
       "      <td>1219017600</td>\n",
       "      <td>\"Delight\" says it all</td>\n",
       "      <td>This is a confection that has been around a fe...</td>\n",
       "      <td>\"Delight\" says it all This is a confection tha...</td>\n",
       "    </tr>\n",
       "    <tr>\n",
       "      <th>3</th>\n",
       "      <td>B000UA0QIQ</td>\n",
       "      <td>A395BORC6FGVXV</td>\n",
       "      <td>Karl</td>\n",
       "      <td>3/3</td>\n",
       "      <td>2.0</td>\n",
       "      <td>1307923200</td>\n",
       "      <td>Cough Medicine</td>\n",
       "      <td>If you are looking for the secret ingredient i...</td>\n",
       "      <td>Cough Medicine If you are looking for the secr...</td>\n",
       "    </tr>\n",
       "    <tr>\n",
       "      <th>4</th>\n",
       "      <td>B006K2ZZ7K</td>\n",
       "      <td>A1UQRSCLF8GW1T</td>\n",
       "      <td>Michael D. Bigham \"M. Wassir\"</td>\n",
       "      <td>0/0</td>\n",
       "      <td>5.0</td>\n",
       "      <td>1350777600</td>\n",
       "      <td>Great taffy</td>\n",
       "      <td>Great taffy at a great price.  There was a wid...</td>\n",
       "      <td>Great taffy Great taffy at a great price.  The...</td>\n",
       "    </tr>\n",
       "  </tbody>\n",
       "</table>\n",
       "</div>"
      ],
      "text/plain": [
       "  product/productId   review/userId               review/profileName  \\\n",
       "0        B001E4KFG0  A3SGXH7AUHU8GW                       delmartian   \n",
       "1        B00813GRG4  A1D87F6ZCVE5NK                           dll pa   \n",
       "2        B000LQOCH0   ABXLMWJIXXAIN  Natalia Corres \"Natalia Corres\"   \n",
       "3        B000UA0QIQ  A395BORC6FGVXV                             Karl   \n",
       "4        B006K2ZZ7K  A1UQRSCLF8GW1T    Michael D. Bigham \"M. Wassir\"   \n",
       "\n",
       "  review/helpfulness  review/score  review/time         review/summary  \\\n",
       "0                1/1           5.0   1303862400  Good Quality Dog Food   \n",
       "1                0/0           1.0   1346976000      Not as Advertised   \n",
       "2                1/1           4.0   1219017600  \"Delight\" says it all   \n",
       "3                3/3           2.0   1307923200         Cough Medicine   \n",
       "4                0/0           5.0   1350777600            Great taffy   \n",
       "\n",
       "                                         review/text  \\\n",
       "0  I have bought several of the Vitality canned d...   \n",
       "1  Product arrived labeled as Jumbo Salted Peanut...   \n",
       "2  This is a confection that has been around a fe...   \n",
       "3  If you are looking for the secret ingredient i...   \n",
       "4  Great taffy at a great price.  There was a wid...   \n",
       "\n",
       "                             review/summary_and_text  \n",
       "0  Good Quality Dog Food I have bought several of...  \n",
       "1  Not as Advertised Product arrived labeled as J...  \n",
       "2  \"Delight\" says it all This is a confection tha...  \n",
       "3  Cough Medicine If you are looking for the secr...  \n",
       "4  Great taffy Great taffy at a great price.  The...  "
      ]
     },
     "execution_count": 251,
     "metadata": {},
     "output_type": "execute_result"
    }
   ],
   "source": [
    "df.head()"
   ]
  },
  {
   "cell_type": "code",
   "execution_count": null,
   "metadata": {},
   "outputs": [],
   "source": []
  }
 ],
 "metadata": {
  "kernelspec": {
   "display_name": "Python 3",
   "language": "python",
   "name": "python3"
  },
  "language_info": {
   "codemirror_mode": {
    "name": "ipython",
    "version": 3
   },
   "file_extension": ".py",
   "mimetype": "text/x-python",
   "name": "python",
   "nbconvert_exporter": "python",
   "pygments_lexer": "ipython3",
   "version": "3.7.2"
  }
 },
 "nbformat": 4,
 "nbformat_minor": 2
}
