{
 "cells": [
  {
   "cell_type": "code",
   "execution_count": 47,
   "metadata": {},
   "outputs": [],
   "source": [
    "%reload_ext autoreload\n",
    "%autoreload 2\n",
    "%matplotlib inline"
   ]
  },
  {
   "cell_type": "code",
   "execution_count": 48,
   "metadata": {},
   "outputs": [],
   "source": [
    "from fastai.text import *"
   ]
  },
  {
   "cell_type": "code",
   "execution_count": 103,
   "metadata": {},
   "outputs": [
    {
     "name": "stdout",
     "output_type": "stream",
     "text": [
      "1.0.55\n"
     ]
    }
   ],
   "source": [
    "import fastai\n",
    "print(fastai.__version__)"
   ]
  },
  {
   "cell_type": "markdown",
   "metadata": {},
   "source": [
    "# Content\n",
    "\n",
    "- The solution uses the fastai library for training the model. \n",
    "- We train on the full dataset and limit ourselves to positive (3,4,5 stars) / negative (1,2 stars) rating.\n",
    "- The final model achieves an **accuracy of 95%** on the held out test set (20% of the data).\n",
    "\n",
    "The task analysis consists of the following parts:\n",
    "\n",
    "1. **Data Preprocessing**\n",
    "   - in which the data is read from a file into a pandas dataframe and missing values are removed\n",
    "2. **Data Exploration**\n",
    "   - where we explore some statistics of the dataset such as:\n",
    "     - how many users/products there are\n",
    "     - how many reviews per product/user there are\n",
    "     - distribution of reviews by year\n",
    "     - etc.\n",
    "3. **Language Model**\n",
    "    - where we train a language model using transfer learning. We fine-tune a model trained on a subset of English Wikipedia\n",
    "    using the reviews in our dataset\n",
    "4. **Sentiment Classifier**\n",
    "    - we train a classifier discerning between positive (3, 4, 5 star reviews) / negative (1, 2 stars) classes\n",
    "4. **Conclusion**\n",
    "    - where we evaluate the results and suggest further improvements"
   ]
  },
  {
   "cell_type": "markdown",
   "metadata": {},
   "source": [
    "# Data Preprocessing"
   ]
  },
  {
   "cell_type": "markdown",
   "metadata": {},
   "source": [
    "## Read the data into a dataframe"
   ]
  },
  {
   "cell_type": "code",
   "execution_count": 49,
   "metadata": {},
   "outputs": [],
   "source": [
    "data_path = Config.data_path()/'amazon-fine-foods'; data_path.mkdir(parents=True, exist_ok=True)"
   ]
  },
  {
   "cell_type": "code",
   "execution_count": 25,
   "metadata": {},
   "outputs": [],
   "source": [
    "txt_file = data_path/'finefoods.txt'"
   ]
  },
  {
   "cell_type": "code",
   "execution_count": 26,
   "metadata": {},
   "outputs": [
    {
     "data": {
      "text/plain": [
       "568454"
      ]
     },
     "execution_count": 26,
     "metadata": {},
     "output_type": "execute_result"
    }
   ],
   "source": [
    "n_reviews = !grep -o 'product/productId:' {txt_file} | wc -l\n",
    "n_reviews = int(n_reviews[0]); n_reviews"
   ]
  },
  {
   "cell_type": "code",
   "execution_count": 126,
   "metadata": {},
   "outputs": [],
   "source": [
    "feature_columns = ['product/productId', 'review/userId', 'review/profileName',\n",
    "                   'review/helpfulness', 'review/score', 'review/time', 'review/summary', 'review/text']"
   ]
  },
  {
   "cell_type": "code",
   "execution_count": 127,
   "metadata": {},
   "outputs": [],
   "source": [
    "df = pd.DataFrame(index=range(n_reviews), columns=feature_columns)"
   ]
  },
  {
   "cell_type": "code",
   "execution_count": 129,
   "metadata": {},
   "outputs": [],
   "source": [
    "with open(txt_file, 'r', encoding='latin-1') as f:\n",
    "    # Remove the last element (would be empty since there is a trailing double newline at the end of file)\n",
    "    reviews = f.read().split('\\n\\n')[:-1]"
   ]
  },
  {
   "cell_type": "code",
   "execution_count": 130,
   "metadata": {},
   "outputs": [],
   "source": [
    "reviews = [r.split('\\n') for r in reviews]"
   ]
  },
  {
   "cell_type": "markdown",
   "metadata": {},
   "source": [
    "### Cleanup\n",
    "Certain reviews contained an extra line just after the profile name. This messed up creating the dataframe so we delete them."
   ]
  },
  {
   "cell_type": "code",
   "execution_count": 131,
   "metadata": {},
   "outputs": [
    {
     "name": "stdout",
     "output_type": "stream",
     "text": [
      "product/productId: B002RIZUQ2\n",
      "review/userId: AS2DLXUWDK0GP\n",
      "review/profileName: MABEL \"Tell us about yourself!\n",
      "88 years old. ...\n",
      "review/helpfulness: 1/1\n",
      "review/score: 4.0\n",
      "review/time: 1289088000\n",
      "review/summary: delicious\n",
      "review/text: if you prefer a tasteful and less strong flavored coffee, I reommend Green Mountain's hazelnut.  I have not been a coffee drinker, but upon tasting this brew, I drink it daily.\n"
     ]
    }
   ],
   "source": [
    "for l in reviews[94197]: print(l)"
   ]
  },
  {
   "cell_type": "code",
   "execution_count": 132,
   "metadata": {},
   "outputs": [],
   "source": [
    "for i in range(len(reviews)):\n",
    "    if len(reviews[i]) != len(feature_columns):\n",
    "        del reviews[i][3]"
   ]
  },
  {
   "cell_type": "markdown",
   "metadata": {},
   "source": [
    "### Create the dataframe."
   ]
  },
  {
   "cell_type": "code",
   "execution_count": null,
   "metadata": {},
   "outputs": [],
   "source": [
    "%%time\n",
    "regex = re.compile(r\"^([^:]*): (.*)$\") # omits the category prefix and catpures the value such as 'product/productId: B002RIZUQ2'\n",
    "for i, review in enumerate(reviews):\n",
    "    for line in review:\n",
    "        column, data = regex.match(line).groups()\n",
    "        assert (column in feature_columns) # sanity check\n",
    "        df.iloc[i][column] = data\n",
    "    if i % 100000 == 0: print(i)"
   ]
  },
  {
   "cell_type": "code",
   "execution_count": null,
   "metadata": {},
   "outputs": [],
   "source": [
    "df.to_csv(data_path/'finefoods.csv', index=False)"
   ]
  },
  {
   "cell_type": "code",
   "execution_count": 51,
   "metadata": {},
   "outputs": [],
   "source": [
    "df = pd.read_csv(data_path/'finefoods.csv')"
   ]
  },
  {
   "cell_type": "markdown",
   "metadata": {},
   "source": [
    "### Remove entries with missing values\n",
    "There are only a few of them so we can omit them without worrying too much about this."
   ]
  },
  {
   "cell_type": "code",
   "execution_count": 52,
   "metadata": {},
   "outputs": [
    {
     "data": {
      "text/html": [
       "<div>\n",
       "<style scoped>\n",
       "    .dataframe tbody tr th:only-of-type {\n",
       "        vertical-align: middle;\n",
       "    }\n",
       "\n",
       "    .dataframe tbody tr th {\n",
       "        vertical-align: top;\n",
       "    }\n",
       "\n",
       "    .dataframe thead th {\n",
       "        text-align: right;\n",
       "    }\n",
       "</style>\n",
       "<table border=\"1\" class=\"dataframe\">\n",
       "  <thead>\n",
       "    <tr style=\"text-align: right;\">\n",
       "      <th></th>\n",
       "      <th>product/productId</th>\n",
       "      <th>review/userId</th>\n",
       "      <th>review/profileName</th>\n",
       "      <th>review/helpfulness</th>\n",
       "      <th>review/score</th>\n",
       "      <th>review/time</th>\n",
       "      <th>review/summary</th>\n",
       "      <th>review/text</th>\n",
       "    </tr>\n",
       "  </thead>\n",
       "  <tbody>\n",
       "    <tr>\n",
       "      <th>25509</th>\n",
       "      <td>B000LKZB4Y</td>\n",
       "      <td>A36BVYD0NT7Z0F</td>\n",
       "      <td>NaN</td>\n",
       "      <td>0/0</td>\n",
       "      <td>5.0</td>\n",
       "      <td>1314576000</td>\n",
       "      <td>These are the best mints and no aspartame or BHT</td>\n",
       "      <td>I was so shocked to find out that almost all g...</td>\n",
       "    </tr>\n",
       "    <tr>\n",
       "      <th>33958</th>\n",
       "      <td>B00412W76S</td>\n",
       "      <td>A3TJPSWY2HE4BS</td>\n",
       "      <td>S. Layton \"homeschool blogger\"</td>\n",
       "      <td>1/24</td>\n",
       "      <td>2.0</td>\n",
       "      <td>1173312000</td>\n",
       "      <td>NaN</td>\n",
       "      <td>I only used two maybe three tea bags and got p...</td>\n",
       "    </tr>\n",
       "    <tr>\n",
       "      <th>38874</th>\n",
       "      <td>B000AYDGZ2</td>\n",
       "      <td>A36BVYD0NT7Z0F</td>\n",
       "      <td>NaN</td>\n",
       "      <td>2/3</td>\n",
       "      <td>1.0</td>\n",
       "      <td>1278374400</td>\n",
       "      <td>doesn't anyone care that they are putting BHT ...</td>\n",
       "      <td>I called Kellogg's to see why Special K red be...</td>\n",
       "    </tr>\n",
       "    <tr>\n",
       "      <th>40548</th>\n",
       "      <td>B00020HHRW</td>\n",
       "      <td>A3TJPSWY2HE4BS</td>\n",
       "      <td>S. Layton \"homeschool blogger\"</td>\n",
       "      <td>1/24</td>\n",
       "      <td>2.0</td>\n",
       "      <td>1173312000</td>\n",
       "      <td>NaN</td>\n",
       "      <td>I only used two maybe three tea bags and got p...</td>\n",
       "    </tr>\n",
       "    <tr>\n",
       "      <th>49800</th>\n",
       "      <td>B000CRHQN0</td>\n",
       "      <td>A2LYFY32LXQDON</td>\n",
       "      <td>NaN</td>\n",
       "      <td>0/0</td>\n",
       "      <td>2.0</td>\n",
       "      <td>1282608000</td>\n",
       "      <td>They were melted and the chocolate had turned ...</td>\n",
       "      <td>We love these bars but i won't order them ship...</td>\n",
       "    </tr>\n",
       "  </tbody>\n",
       "</table>\n",
       "</div>"
      ],
      "text/plain": [
       "      product/productId   review/userId              review/profileName  \\\n",
       "25509        B000LKZB4Y  A36BVYD0NT7Z0F                             NaN   \n",
       "33958        B00412W76S  A3TJPSWY2HE4BS  S. Layton \"homeschool blogger\"   \n",
       "38874        B000AYDGZ2  A36BVYD0NT7Z0F                             NaN   \n",
       "40548        B00020HHRW  A3TJPSWY2HE4BS  S. Layton \"homeschool blogger\"   \n",
       "49800        B000CRHQN0  A2LYFY32LXQDON                             NaN   \n",
       "\n",
       "      review/helpfulness  review/score  review/time  \\\n",
       "25509                0/0           5.0   1314576000   \n",
       "33958               1/24           2.0   1173312000   \n",
       "38874                2/3           1.0   1278374400   \n",
       "40548               1/24           2.0   1173312000   \n",
       "49800                0/0           2.0   1282608000   \n",
       "\n",
       "                                          review/summary  \\\n",
       "25509   These are the best mints and no aspartame or BHT   \n",
       "33958                                                NaN   \n",
       "38874  doesn't anyone care that they are putting BHT ...   \n",
       "40548                                                NaN   \n",
       "49800  They were melted and the chocolate had turned ...   \n",
       "\n",
       "                                             review/text  \n",
       "25509  I was so shocked to find out that almost all g...  \n",
       "33958  I only used two maybe three tea bags and got p...  \n",
       "38874  I called Kellogg's to see why Special K red be...  \n",
       "40548  I only used two maybe three tea bags and got p...  \n",
       "49800  We love these bars but i won't order them ship...  "
      ]
     },
     "execution_count": 52,
     "metadata": {},
     "output_type": "execute_result"
    }
   ],
   "source": [
    "nans = df[df.isnull().any(axis=1)]; nans.head()"
   ]
  },
  {
   "cell_type": "code",
   "execution_count": 53,
   "metadata": {},
   "outputs": [
    {
     "name": "stdout",
     "output_type": "stream",
     "text": [
      "(568454, 8)\n",
      "(43, 8)\n"
     ]
    }
   ],
   "source": [
    "print(df.shape)\n",
    "print(nans.shape)"
   ]
  },
  {
   "cell_type": "code",
   "execution_count": 54,
   "metadata": {},
   "outputs": [],
   "source": [
    "df = df.drop(list(nans.index.values));"
   ]
  },
  {
   "cell_type": "code",
   "execution_count": 55,
   "metadata": {},
   "outputs": [
    {
     "data": {
      "text/plain": [
       "(568411, 8)"
      ]
     },
     "execution_count": 55,
     "metadata": {},
     "output_type": "execute_result"
    }
   ],
   "source": [
    "df.shape"
   ]
  },
  {
   "cell_type": "markdown",
   "metadata": {},
   "source": [
    "### Create new columns\n",
    "Create two new columns:\n",
    " - one **concatenating the summary and text** since the two are both useful for sentiment analysis (this will be the independent variable for training)\n",
    " - the **sentiment of the review** (the dependent variable/label) which can be 'positive'/'negative'"
   ]
  },
  {
   "cell_type": "code",
   "execution_count": 56,
   "metadata": {},
   "outputs": [],
   "source": [
    "separator = ' '\n",
    "df[\"review/summary_and_text\"] = df[\"review/summary\"].map(str) + separator + df[\"review/text\"]\n",
    "df['label'] = df.apply(lambda row: 'positive' if row['review/score'] > 2.0 else 'negative', axis=1) "
   ]
  },
  {
   "cell_type": "code",
   "execution_count": 57,
   "metadata": {},
   "outputs": [],
   "source": [
    "df.sort_values(by=['review/userId'], inplace=True);\n",
    "df.reset_index(drop=True, inplace=True)"
   ]
  },
  {
   "cell_type": "code",
   "execution_count": 58,
   "metadata": {},
   "outputs": [
    {
     "data": {
      "text/html": [
       "<div>\n",
       "<style scoped>\n",
       "    .dataframe tbody tr th:only-of-type {\n",
       "        vertical-align: middle;\n",
       "    }\n",
       "\n",
       "    .dataframe tbody tr th {\n",
       "        vertical-align: top;\n",
       "    }\n",
       "\n",
       "    .dataframe thead th {\n",
       "        text-align: right;\n",
       "    }\n",
       "</style>\n",
       "<table border=\"1\" class=\"dataframe\">\n",
       "  <thead>\n",
       "    <tr style=\"text-align: right;\">\n",
       "      <th></th>\n",
       "      <th>product/productId</th>\n",
       "      <th>review/userId</th>\n",
       "      <th>review/profileName</th>\n",
       "      <th>review/helpfulness</th>\n",
       "      <th>review/score</th>\n",
       "      <th>review/time</th>\n",
       "      <th>review/summary</th>\n",
       "      <th>review/text</th>\n",
       "      <th>review/summary_and_text</th>\n",
       "      <th>label</th>\n",
       "    </tr>\n",
       "  </thead>\n",
       "  <tbody>\n",
       "    <tr>\n",
       "      <th>0</th>\n",
       "      <td>B006Q820X0</td>\n",
       "      <td>#oc-R103C0QSV1DF5E</td>\n",
       "      <td>C</td>\n",
       "      <td>1/2</td>\n",
       "      <td>5.0</td>\n",
       "      <td>1343088000</td>\n",
       "      <td>Great for the Price</td>\n",
       "      <td>I have to say I was a little apprehensive to b...</td>\n",
       "      <td>Great for the Price I have to say I was a litt...</td>\n",
       "      <td>positive</td>\n",
       "    </tr>\n",
       "    <tr>\n",
       "      <th>1</th>\n",
       "      <td>B008I1XPKA</td>\n",
       "      <td>#oc-R109MU5OBBZ59U</td>\n",
       "      <td>AayGee</td>\n",
       "      <td>0/1</td>\n",
       "      <td>5.0</td>\n",
       "      <td>1350086400</td>\n",
       "      <td>AWESOME Coffee!!!!</td>\n",
       "      <td>Received my free K cups as a sample promotion ...</td>\n",
       "      <td>AWESOME Coffee!!!! Received my free K cups as ...</td>\n",
       "      <td>positive</td>\n",
       "    </tr>\n",
       "    <tr>\n",
       "      <th>2</th>\n",
       "      <td>B008I1XPKA</td>\n",
       "      <td>#oc-R10LFEMQEW6QGZ</td>\n",
       "      <td>Julie</td>\n",
       "      <td>0/1</td>\n",
       "      <td>5.0</td>\n",
       "      <td>1345939200</td>\n",
       "      <td>Brooklyn Bean Roastery Breakfast Blend K-Cups</td>\n",
       "      <td>Brooklyn Bean Roastery Blend K-Cups are great ...</td>\n",
       "      <td>Brooklyn Bean Roastery Breakfast Blend K-Cups ...</td>\n",
       "      <td>positive</td>\n",
       "    </tr>\n",
       "    <tr>\n",
       "      <th>3</th>\n",
       "      <td>B0026LJ3EA</td>\n",
       "      <td>#oc-R10LT57ZGIB140</td>\n",
       "      <td>dipr</td>\n",
       "      <td>0/0</td>\n",
       "      <td>3.0</td>\n",
       "      <td>1310601600</td>\n",
       "      <td>Some damage</td>\n",
       "      <td>The shipment of the dog food was quick.  Howev...</td>\n",
       "      <td>Some damage The shipment of the dog food was q...</td>\n",
       "      <td>positive</td>\n",
       "    </tr>\n",
       "    <tr>\n",
       "      <th>4</th>\n",
       "      <td>B006Q820X0</td>\n",
       "      <td>#oc-R10UA029WVWIUI</td>\n",
       "      <td>Kim D</td>\n",
       "      <td>0/0</td>\n",
       "      <td>1.0</td>\n",
       "      <td>1342483200</td>\n",
       "      <td>Less than satisfactory.  I gave the Brooklyn K...</td>\n",
       "      <td>Brooklyn \"French Roast\" K-Cup Coffee is not on...</td>\n",
       "      <td>Less than satisfactory.  I gave the Brooklyn K...</td>\n",
       "      <td>negative</td>\n",
       "    </tr>\n",
       "  </tbody>\n",
       "</table>\n",
       "</div>"
      ],
      "text/plain": [
       "  product/productId       review/userId review/profileName review/helpfulness  \\\n",
       "0        B006Q820X0  #oc-R103C0QSV1DF5E                  C                1/2   \n",
       "1        B008I1XPKA  #oc-R109MU5OBBZ59U             AayGee                0/1   \n",
       "2        B008I1XPKA  #oc-R10LFEMQEW6QGZ              Julie                0/1   \n",
       "3        B0026LJ3EA  #oc-R10LT57ZGIB140               dipr                0/0   \n",
       "4        B006Q820X0  #oc-R10UA029WVWIUI              Kim D                0/0   \n",
       "\n",
       "   review/score  review/time  \\\n",
       "0           5.0   1343088000   \n",
       "1           5.0   1350086400   \n",
       "2           5.0   1345939200   \n",
       "3           3.0   1310601600   \n",
       "4           1.0   1342483200   \n",
       "\n",
       "                                      review/summary  \\\n",
       "0                                Great for the Price   \n",
       "1                                 AWESOME Coffee!!!!   \n",
       "2      Brooklyn Bean Roastery Breakfast Blend K-Cups   \n",
       "3                                        Some damage   \n",
       "4  Less than satisfactory.  I gave the Brooklyn K...   \n",
       "\n",
       "                                         review/text  \\\n",
       "0  I have to say I was a little apprehensive to b...   \n",
       "1  Received my free K cups as a sample promotion ...   \n",
       "2  Brooklyn Bean Roastery Blend K-Cups are great ...   \n",
       "3  The shipment of the dog food was quick.  Howev...   \n",
       "4  Brooklyn \"French Roast\" K-Cup Coffee is not on...   \n",
       "\n",
       "                             review/summary_and_text     label  \n",
       "0  Great for the Price I have to say I was a litt...  positive  \n",
       "1  AWESOME Coffee!!!! Received my free K cups as ...  positive  \n",
       "2  Brooklyn Bean Roastery Breakfast Blend K-Cups ...  positive  \n",
       "3  Some damage The shipment of the dog food was q...  positive  \n",
       "4  Less than satisfactory.  I gave the Brooklyn K...  negative  "
      ]
     },
     "execution_count": 58,
     "metadata": {},
     "output_type": "execute_result"
    }
   ],
   "source": [
    "df.head()"
   ]
  },
  {
   "cell_type": "markdown",
   "metadata": {},
   "source": [
    "# Data Exploration"
   ]
  },
  {
   "cell_type": "code",
   "execution_count": 149,
   "metadata": {},
   "outputs": [],
   "source": [
    "''' A helper function creating multiple histogram plots with different ranges of values.'''\n",
    "def ranged_multi_histogram(data, title, xlabel, ylabel, ranges, bins=50, figsize=(20,8)):\n",
    "    rows = len(ranges) // 2\n",
    "    fig, axes = plt.subplots(rows, 2, figsize=figsize)\n",
    "    plt.suptitle(title, fontsize=16)\n",
    "    for idx, ax in enumerate(axes.flat):\n",
    "        ax.hist(data, bins=50, range=ranges[idx])\n",
    "        ax.set_ylabel(xlabel, fontsize=16)\n",
    "        ax.set_xlabel(ylabel, fontsize=16)"
   ]
  },
  {
   "cell_type": "markdown",
   "metadata": {},
   "source": [
    "#### **Unique products in the dataset**"
   ]
  },
  {
   "cell_type": "code",
   "execution_count": 15,
   "metadata": {},
   "outputs": [
    {
     "data": {
      "text/plain": [
       "74258"
      ]
     },
     "execution_count": 15,
     "metadata": {},
     "output_type": "execute_result"
    }
   ],
   "source": [
    "len(df['product/productId'].unique())"
   ]
  },
  {
   "cell_type": "markdown",
   "metadata": {},
   "source": [
    "#### **Unique users**"
   ]
  },
  {
   "cell_type": "code",
   "execution_count": 18,
   "metadata": {},
   "outputs": [
    {
     "data": {
      "text/plain": [
       "256047"
      ]
     },
     "execution_count": 18,
     "metadata": {},
     "output_type": "execute_result"
    }
   ],
   "source": [
    "len(df['review/userId'].unique())"
   ]
  },
  {
   "cell_type": "markdown",
   "metadata": {},
   "source": [
    "#### **Review scores**"
   ]
  },
  {
   "cell_type": "code",
   "execution_count": 26,
   "metadata": {},
   "outputs": [
    {
     "data": {
      "image/png": "[encoded data removed]",
      "text/plain": [
       "<Figure size 432x288 with 1 Axes>"
      ]
     },
     "metadata": {
      "needs_background": "light"
     },
     "output_type": "display_data"
    }
   ],
   "source": [
    "plt.hist(df['review/score']);\n",
    "plt.xlabel('Score');\n",
    "plt.ylabel('Review count');"
   ]
  },
  {
   "cell_type": "markdown",
   "metadata": {},
   "source": [
    "Most reviews are positive - the dataset is unbalanced. It is also important to be aware that most people who write reviews are either very disappointed or very satisfied so there will likely be extremes of language in the text. This might be an issue when applying the model on more moderate reviews."
   ]
  },
  {
   "cell_type": "markdown",
   "metadata": {},
   "source": [
    "#### **Review word count**"
   ]
  },
  {
   "cell_type": "code",
   "execution_count": 143,
   "metadata": {},
   "outputs": [],
   "source": [
    "review_word_counts = df.apply(lambda row: len(row['review/summary_and_text'].split(' ')), axis=1)"
   ]
  },
  {
   "cell_type": "code",
   "execution_count": 144,
   "metadata": {},
   "outputs": [
    {
     "data": {
      "text/plain": [
       "(4, 3545, 86)"
      ]
     },
     "execution_count": 144,
     "metadata": {},
     "output_type": "execute_result"
    }
   ],
   "source": [
    "review_word_counts.min(), review_word_counts.max(), int(review_word_counts.mean())"
   ]
  },
  {
   "cell_type": "code",
   "execution_count": 150,
   "metadata": {},
   "outputs": [
    {
     "data": {
      "image/png": "[encoded data removed]",
      "text/plain": [
       "<Figure size 1440x576 with 4 Axes>"
      ]
     },
     "metadata": {
      "needs_background": "light"
     },
     "output_type": "display_data"
    }
   ],
   "source": [
    "ranged_multi_histogram(review_word_counts, 'Review word counts', 'Number of reviews', 'Number of words in the review',\n",
    "                       ranges=[(0, 50), (50, 100), (100, 500), (500, 3600)])"
   ]
  },
  {
   "cell_type": "markdown",
   "metadata": {},
   "source": [
    "#### **Reviews per product**"
   ]
  },
  {
   "cell_type": "code",
   "execution_count": 152,
   "metadata": {},
   "outputs": [
    {
     "data": {
      "text/plain": [
       "(1, 913, 7)"
      ]
     },
     "execution_count": 152,
     "metadata": {},
     "output_type": "execute_result"
    }
   ],
   "source": [
    "product_review_counts = df['product/productId'].value_counts()\n",
    "product_review_counts.min(), product_review_counts.max(), int(product_review_counts.mean())"
   ]
  },
  {
   "cell_type": "code",
   "execution_count": 153,
   "metadata": {},
   "outputs": [
    {
     "data": {
      "image/png": "[encoded data removed]",
      "text/plain": [
       "<Figure size 1440x576 with 4 Axes>"
      ]
     },
     "metadata": {
      "needs_background": "light"
     },
     "output_type": "display_data"
    }
   ],
   "source": [
    "ranged_multi_histogram(product_review_counts, 'Product review counts', 'Number of products', 'Number of reviews',\n",
    "                       ranges=[(0, 50), (50, 100), (100, 500), (500, 913)])"
   ]
  },
  {
   "cell_type": "markdown",
   "metadata": {},
   "source": [
    "#### **Reviews per user**"
   ]
  },
  {
   "cell_type": "code",
   "execution_count": 154,
   "metadata": {},
   "outputs": [
    {
     "data": {
      "text/plain": [
       "(1, 448, 2)"
      ]
     },
     "execution_count": 154,
     "metadata": {},
     "output_type": "execute_result"
    }
   ],
   "source": [
    "user_review_counts = df['review/userId'].value_counts()\n",
    "user_review_counts.min(), user_review_counts.max(), int(user_review_counts.mean())"
   ]
  },
  {
   "cell_type": "code",
   "execution_count": 155,
   "metadata": {},
   "outputs": [
    {
     "data": {
      "image/png": "[encoded data removed]",
      "text/plain": [
       "<Figure size 1440x288 with 2 Axes>"
      ]
     },
     "metadata": {
      "needs_background": "light"
     },
     "output_type": "display_data"
    }
   ],
   "source": [
    "ranged_multi_histogram(user_review_counts, 'User review counts', 'Number of users', 'Number of reviews',\n",
    "                       ranges=[(0, 50), (50, 448)], figsize=(20, 4))"
   ]
  },
  {
   "cell_type": "markdown",
   "metadata": {},
   "source": [
    "#### **Reviews by year**"
   ]
  },
  {
   "cell_type": "code",
   "execution_count": 156,
   "metadata": {},
   "outputs": [],
   "source": [
    "from datetime import datetime"
   ]
  },
  {
   "cell_type": "code",
   "execution_count": 157,
   "metadata": {},
   "outputs": [],
   "source": [
    "review_times = df.apply(lambda row: datetime.utcfromtimestamp(row['review/time']), axis=1).to_frame('time')\n",
    "review_times.sort_values(inplace=True, by='time')\n",
    "review_years = review_times.apply(lambda row: row['time'].year, axis=1)"
   ]
  },
  {
   "cell_type": "code",
   "execution_count": 158,
   "metadata": {},
   "outputs": [
    {
     "data": {
      "text/plain": [
       "(1999, 2012, 2011.0)"
      ]
     },
     "execution_count": 158,
     "metadata": {},
     "output_type": "execute_result"
    }
   ],
   "source": [
    "review_years.min(), review_years.max(), review_years.median()"
   ]
  },
  {
   "cell_type": "code",
   "execution_count": 159,
   "metadata": {},
   "outputs": [
    {
     "data": {
      "image/png": "[encoded data removed]",
      "text/plain": [
       "<Figure size 1440x288 with 2 Axes>"
      ]
     },
     "metadata": {
      "needs_background": "light"
     },
     "output_type": "display_data"
    }
   ],
   "source": [
    "ranged_multi_histogram(review_years, 'Review years', 'Number of reviews', 'Year',\n",
    "                       ranges=[(1999, 2006), (2007, 2011)], figsize=(20, 4))"
   ]
  },
  {
   "cell_type": "markdown",
   "metadata": {},
   "source": [
    "Most reviews come from years 2008-2011. This might be relevant when using and evaluating our model. Although it is sensible to assume that the English vocabulary has not changed much for example between 1999 and 2011 and between 2011 and 2019 (if we were to deploy it on reviews written today), some new words might have entered the language that were not in usage then. \n",
    "\n",
    "But in our case this is just something to be aware of, the time span is not so large to make an important difference."
   ]
  },
  {
   "cell_type": "markdown",
   "metadata": {},
   "source": [
    "# Language Model\n",
    "The language model is based on the AWD-LSTM architecture and is pretrained on the subset of English Wikipedia (the WikiText-103 corpus). We then fine-tune it on our corpus of over 500k reviews. Importantly we use the train, validation as well as test data for training the language model. This is fine, using the validation and test set for training would only be problematic if we made use of the labels.\n",
    "\n",
    "The encoder part of the language model (which has understanding about how english language and specifically english language food reviews are formed) will be used as the basis of our sentiment classifier."
   ]
  },
  {
   "cell_type": "markdown",
   "metadata": {},
   "source": [
    "## Data"
   ]
  },
  {
   "cell_type": "code",
   "execution_count": 13,
   "metadata": {},
   "outputs": [],
   "source": [
    "bs = 50"
   ]
  },
  {
   "cell_type": "code",
   "execution_count": null,
   "metadata": {},
   "outputs": [],
   "source": [
    "data_lm = (TextList.from_df(df, cols='review/summary_and_text')\n",
    "          .split_by_rand_pct(0.1, seed=42)\n",
    "          .label_for_lm()\n",
    "          .databunch(bs=bs))"
   ]
  },
  {
   "cell_type": "code",
   "execution_count": 280,
   "metadata": {},
   "outputs": [],
   "source": [
    "data_lm.save('data_lm.pkl')"
   ]
  },
  {
   "cell_type": "code",
   "execution_count": 15,
   "metadata": {},
   "outputs": [],
   "source": [
    "data_lm = load_data('.', 'data_lm.pkl', bs=bs)"
   ]
  },
  {
   "cell_type": "code",
   "execution_count": 16,
   "metadata": {},
   "outputs": [
    {
     "data": {
      "text/html": [
       "<table border=\"1\" class=\"dataframe\">\n",
       "  <thead>\n",
       "    <tr style=\"text-align: right;\">\n",
       "      <th>idx</th>\n",
       "      <th>text</th>\n",
       "    </tr>\n",
       "  </thead>\n",
       "  <tbody>\n",
       "    <tr>\n",
       "      <td>0</td>\n",
       "      <td>it . xxmaj overall , i was impressed . xxbos xxup awesome xxmaj coffee xxrep 4 ! xxmaj received my free k cups as a sample promotion and xxup love them . i have at least one a day at work xxrep 4 ! xxbos xxmaj some damage xxmaj the shipment of the dog food was quick . xxmaj however , when i opened the main box which contained several</td>\n",
       "    </tr>\n",
       "    <tr>\n",
       "      <td>1</td>\n",
       "      <td>xxmaj the best snack ! ! ! i always have these in our pantry ! xxmaj they are great when you want just something to nibble on , and also amazing in salads ! ! xxmaj the sea salt and garlic are without a doubt my favorite flavor of theirs . xxmaj do n't be hesitant about the garlic in them . xxmaj it 's really not strong at all</td>\n",
       "    </tr>\n",
       "    <tr>\n",
       "      <td>2</td>\n",
       "      <td>have tried . xxmaj it is bold with a really nice finish . xxmaj not at all bitter like some of the decafs i have tried . xxbos xxmaj best xxmaj bold decaf xxmaj this is the best xxmaj decaf k - cup i have tried . xxmaj it is bold with a really nice finish . xxmaj not at all bitter like some of the decafs i have tried</td>\n",
       "    </tr>\n",
       "  </tbody>\n",
       "</table>"
      ],
      "text/plain": [
       "<IPython.core.display.HTML object>"
      ]
     },
     "metadata": {},
     "output_type": "display_data"
    }
   ],
   "source": [
    "data_lm.show_batch(3)"
   ]
  },
  {
   "cell_type": "markdown",
   "metadata": {},
   "source": [
    "## Train the model"
   ]
  },
  {
   "cell_type": "code",
   "execution_count": 17,
   "metadata": {},
   "outputs": [],
   "source": [
    "learn = language_model_learner(data_lm, AWD_LSTM, drop_mult=0.3)"
   ]
  },
  {
   "cell_type": "code",
   "execution_count": 288,
   "metadata": {},
   "outputs": [
    {
     "data": {
      "text/html": [],
      "text/plain": [
       "<IPython.core.display.HTML object>"
      ]
     },
     "metadata": {},
     "output_type": "display_data"
    },
    {
     "name": "stdout",
     "output_type": "stream",
     "text": [
      "LR Finder is complete, type {learner_name}.recorder.plot() to see the graph.\n"
     ]
    }
   ],
   "source": [
    "learn.lr_find()"
   ]
  },
  {
   "cell_type": "code",
   "execution_count": 289,
   "metadata": {},
   "outputs": [
    {
     "data": {
      "image/png": "[encoded data removed]",
      "text/plain": [
       "<Figure size 432x288 with 1 Axes>"
      ]
     },
     "metadata": {
      "needs_background": "light"
     },
     "output_type": "display_data"
    }
   ],
   "source": [
    "learn.recorder.plot()"
   ]
  },
  {
   "cell_type": "code",
   "execution_count": 292,
   "metadata": {},
   "outputs": [
    {
     "data": {
      "text/html": [
       "<table border=\"1\" class=\"dataframe\">\n",
       "  <thead>\n",
       "    <tr style=\"text-align: left;\">\n",
       "      <th>epoch</th>\n",
       "      <th>train_loss</th>\n",
       "      <th>valid_loss</th>\n",
       "      <th>accuracy</th>\n",
       "      <th>time</th>\n",
       "    </tr>\n",
       "  </thead>\n",
       "  <tbody>\n",
       "    <tr>\n",
       "      <td>0</td>\n",
       "      <td>3.724845</td>\n",
       "      <td>3.569823</td>\n",
       "      <td>0.315026</td>\n",
       "      <td>44:11</td>\n",
       "    </tr>\n",
       "  </tbody>\n",
       "</table>"
      ],
      "text/plain": [
       "<IPython.core.display.HTML object>"
      ]
     },
     "metadata": {},
     "output_type": "display_data"
    }
   ],
   "source": [
    "learn.fit_one_cycle(1, 2e-2, moms=(0.8,0.7))"
   ]
  },
  {
   "cell_type": "code",
   "execution_count": 294,
   "metadata": {},
   "outputs": [],
   "source": [
    "learn.save'lm-full-fit-head')"
   ]
  },
  {
   "cell_type": "code",
   "execution_count": 299,
   "metadata": {},
   "outputs": [],
   "source": [
    "learn.load('lm-full-fit-head');"
   ]
  },
  {
   "cell_type": "code",
   "execution_count": 300,
   "metadata": {},
   "outputs": [
    {
     "data": {
      "text/html": [
       "<table border=\"1\" class=\"dataframe\">\n",
       "  <thead>\n",
       "    <tr style=\"text-align: left;\">\n",
       "      <th>epoch</th>\n",
       "      <th>train_loss</th>\n",
       "      <th>valid_loss</th>\n",
       "      <th>accuracy</th>\n",
       "      <th>time</th>\n",
       "    </tr>\n",
       "  </thead>\n",
       "  <tbody>\n",
       "    <tr>\n",
       "      <td>0</td>\n",
       "      <td>3.790637</td>\n",
       "      <td>3.724273</td>\n",
       "      <td>0.304310</td>\n",
       "      <td>50:16</td>\n",
       "    </tr>\n",
       "    <tr>\n",
       "      <td>1</td>\n",
       "      <td>3.794094</td>\n",
       "      <td>3.720109</td>\n",
       "      <td>0.305392</td>\n",
       "      <td>50:09</td>\n",
       "    </tr>\n",
       "    <tr>\n",
       "      <td>2</td>\n",
       "      <td>3.474240</td>\n",
       "      <td>3.403054</td>\n",
       "      <td>0.340417</td>\n",
       "      <td>50:05</td>\n",
       "    </tr>\n",
       "    <tr>\n",
       "      <td>3</td>\n",
       "      <td>3.310427</td>\n",
       "      <td>3.265811</td>\n",
       "      <td>0.357368</td>\n",
       "      <td>50:13</td>\n",
       "    </tr>\n",
       "  </tbody>\n",
       "</table>"
      ],
      "text/plain": [
       "<IPython.core.display.HTML object>"
      ]
     },
     "metadata": {},
     "output_type": "display_data"
    }
   ],
   "source": [
    "learn.fit_one_cycle(4, 2e-2, moms=(0.8,0.7))"
   ]
  },
  {
   "cell_type": "code",
   "execution_count": 301,
   "metadata": {},
   "outputs": [],
   "source": [
    "learn.save('lm-full-fit-head-2')"
   ]
  },
  {
   "cell_type": "code",
   "execution_count": 302,
   "metadata": {},
   "outputs": [],
   "source": [
    "learn.unfreeze()"
   ]
  },
  {
   "cell_type": "code",
   "execution_count": 303,
   "metadata": {},
   "outputs": [
    {
     "data": {
      "text/html": [
       "<table border=\"1\" class=\"dataframe\">\n",
       "  <thead>\n",
       "    <tr style=\"text-align: left;\">\n",
       "      <th>epoch</th>\n",
       "      <th>train_loss</th>\n",
       "      <th>valid_loss</th>\n",
       "      <th>accuracy</th>\n",
       "      <th>time</th>\n",
       "    </tr>\n",
       "  </thead>\n",
       "  <tbody>\n",
       "    <tr>\n",
       "      <td>0</td>\n",
       "      <td>3.280616</td>\n",
       "      <td>3.239791</td>\n",
       "      <td>0.361205</td>\n",
       "      <td>50:09</td>\n",
       "    </tr>\n",
       "    <tr>\n",
       "      <td>1</td>\n",
       "      <td>3.257486</td>\n",
       "      <td>3.209735</td>\n",
       "      <td>0.365563</td>\n",
       "      <td>50:06</td>\n",
       "    </tr>\n",
       "    <tr>\n",
       "      <td>2</td>\n",
       "      <td>3.256770</td>\n",
       "      <td>3.178166</td>\n",
       "      <td>0.370407</td>\n",
       "      <td>50:08</td>\n",
       "    </tr>\n",
       "    <tr>\n",
       "      <td>3</td>\n",
       "      <td>3.229292</td>\n",
       "      <td>3.167437</td>\n",
       "      <td>0.372244</td>\n",
       "      <td>50:14</td>\n",
       "    </tr>\n",
       "  </tbody>\n",
       "</table>"
      ],
      "text/plain": [
       "<IPython.core.display.HTML object>"
      ]
     },
     "metadata": {},
     "output_type": "display_data"
    }
   ],
   "source": [
    "learn.fit_one_cycle(4, 1e-3, moms=(0.8,0.7))"
   ]
  },
  {
   "cell_type": "code",
   "execution_count": 304,
   "metadata": {},
   "outputs": [],
   "source": [
    "learn.save('lm-full-fine-tuned')"
   ]
  },
  {
   "cell_type": "code",
   "execution_count": 19,
   "metadata": {},
   "outputs": [],
   "source": [
    "learn.load('lm-full-fine-tuned');"
   ]
  },
  {
   "cell_type": "markdown",
   "metadata": {},
   "source": [
    "We can let the model hallucinate a product review for us."
   ]
  },
  {
   "cell_type": "code",
   "execution_count": 25,
   "metadata": {},
   "outputs": [],
   "source": [
    "TEXT = \"I liked this \"\n",
    "N_WORDS = 100\n",
    "N_SENTENCES = 1"
   ]
  },
  {
   "cell_type": "code",
   "execution_count": 26,
   "metadata": {},
   "outputs": [
    {
     "name": "stdout",
     "output_type": "stream",
     "text": [
      "I liked this  pasta The box was not as pictured , but it was not packaged in a box . i did not want to hear that item had the packing problem . But , i have no clue what happened . The cookies are a good quality product and would definitely recommend them . xxbos Great product , lousy service i love the flavor of this tea . i use it in my chai tea and it gives it a hint of sweetness . i love the fact that it 's organic and makes it easy to drink\n"
     ]
    }
   ],
   "source": [
    "print(\"\\n\".join(learn.predict(TEXT, N_WORDS, temperature=0.75) for _ in range(N_SENTENCES)))"
   ]
  },
  {
   "cell_type": "markdown",
   "metadata": {},
   "source": [
    "We save the language model's encoder which creates and updates the hidden state. It will be used for creating the classifier."
   ]
  },
  {
   "cell_type": "code",
   "execution_count": 24,
   "metadata": {},
   "outputs": [],
   "source": [
    "learn.save_encoder('full-encoder')"
   ]
  },
  {
   "cell_type": "markdown",
   "metadata": {},
   "source": [
    "# Sentiment Classifier\n",
    "Predicts either a positive or a negative sentiment for the review.\n",
    "## Data"
   ]
  },
  {
   "cell_type": "markdown",
   "metadata": {},
   "source": [
    "### Splitting the data\n",
    "We will divide the data into three splits (60/20/20 % of the data respectively):\n",
    " - train (the model uses this data to modify its parameters)\n",
    " - validation (we use this to assess the quality of the model during training and hyperparameter tuning)\n",
    " - test (this is the final evaluation of the model's performance and we should touch it as little as we can)\n",
    " \n",
    "### Caveats for splitting the data:\n",
    "- The reviews dataframe is now sorted by productId. When creating the splits we should make sure that reviews of the same product do not appear both in the train and either validation or test set. This will prevent the model from 'cheating' since reviews for the same product would likely be similar and the validation/test split are supposed to inform us about the model's generalization ability.\n",
    "- The content of the review is also heavily correlated with the user who wrote it (the person probably has a very similar style of writing accross different reviews) so ideally, we would avoid leakage of both products and users between the train and test/validation splits. \n",
    "- For simplicity though, let's restrict us to avoiding leakage based on product."
   ]
  },
  {
   "cell_type": "code",
   "execution_count": 59,
   "metadata": {},
   "outputs": [],
   "source": [
    "bs = 50"
   ]
  },
  {
   "cell_type": "code",
   "execution_count": 60,
   "metadata": {},
   "outputs": [
    {
     "data": {
      "text/plain": [
       "568411"
      ]
     },
     "execution_count": 60,
     "metadata": {},
     "output_type": "execute_result"
    }
   ],
   "source": [
    "n_reviews = df.shape[0]; n_reviews"
   ]
  },
  {
   "cell_type": "code",
   "execution_count": 61,
   "metadata": {},
   "outputs": [],
   "source": [
    "last_train_idx = int(n_reviews * 0.6)"
   ]
  },
  {
   "cell_type": "code",
   "execution_count": 62,
   "metadata": {},
   "outputs": [],
   "source": [
    "last_valid_idx = last_train_idx + int(n_reviews * 0.2) + 1"
   ]
  },
  {
   "cell_type": "markdown",
   "metadata": {},
   "source": [
    "The training and validation data for text classification consists of:\n",
    "- **xs** (independent variable): **review text** (review summary and body)\n",
    "- **ys** (dependent variable): **the label** (positive/negative sentiment of the review)\n",
    "    \n",
    "fastai is able to extract these from the provided data frame. We split the data into the train/validation splits using the indices we have generated.\n",
    "We will use the data reserved for testing after finishing training for the model's final evaluation."
   ]
  },
  {
   "cell_type": "code",
   "execution_count": null,
   "metadata": {},
   "outputs": [
    {
     "data": {
      "text/html": [
       "\n",
       "    <div>\n",
       "        <style>\n",
       "            /* Turns off some styling */\n",
       "            progress {\n",
       "                /* gets rid of default border in Firefox and Opera. */\n",
       "                border: none;\n",
       "                /* Needs to be in here for Safari polyfill so background images work as expected. */\n",
       "                background-size: auto;\n",
       "            }\n",
       "            .progress-bar-interrupted, .progress-bar-interrupted::-webkit-progress-bar {\n",
       "                background: #F44336;\n",
       "            }\n",
       "        </style>\n",
       "      <progress value='13' class='' max='35', style='width:300px; height:20px; vertical-align: middle;'></progress>\n",
       "      37.14% [13/35 00:33<00:56]\n",
       "    </div>\n",
       "    "
      ],
      "text/plain": [
       "<IPython.core.display.HTML object>"
      ]
     },
     "metadata": {},
     "output_type": "display_data"
    }
   ],
   "source": [
    "data_clas = (TextList.from_df(df, cols='review/summary_and_text', vocab=data_lm.vocab)\n",
    "             .split_by_idxs(train_idx=np.arange(last_train_idx), \n",
    "                            valid_idx=np.arange(last_train_idx, last_valid_idx))\n",
    "             .label_from_df(cols='label')\n",
    "             .databunch(bs=bs))"
   ]
  },
  {
   "cell_type": "code",
   "execution_count": 41,
   "metadata": {},
   "outputs": [],
   "source": [
    "data_clas.save('data_clas.pkl')"
   ]
  },
  {
   "cell_type": "code",
   "execution_count": 63,
   "metadata": {},
   "outputs": [],
   "source": [
    "data_clas = load_data('.', 'data_clas.pkl', bs=bs)"
   ]
  },
  {
   "cell_type": "code",
   "execution_count": 64,
   "metadata": {},
   "outputs": [
    {
     "data": {
      "text/html": [
       "<table border=\"1\" class=\"dataframe\">\n",
       "  <thead>\n",
       "    <tr style=\"text-align: right;\">\n",
       "      <th>text</th>\n",
       "      <th>target</th>\n",
       "    </tr>\n",
       "  </thead>\n",
       "  <tbody>\n",
       "    <tr>\n",
       "      <td>xxbos xxmaj an okay filtered municipal tap water with slight \" chalky \" aftertaste , but the misleading health claims and hype are quackery ! xxmaj fuzzy xxmaj wuzzy 's xxmaj summary : \\n  * * * xxmaj somewhat recommended , with reservations and only lukewarm fuzzies . \\n \\n  xxmaj positives : \\n \\n  + xxmaj not too expensive compared to other bottled water , although</td>\n",
       "      <td>positive</td>\n",
       "    </tr>\n",
       "    <tr>\n",
       "      <td>xxbos xxmaj works as xxmaj advertised - xxmaj classy xxmaj product see update at end of review \\n \\n  xxrep 18 * \\n \\n  i was lamenting about only having frech lettuce , herbs , chives , and tomatoes from may garden during the long fall - winter - spring parts of the year . xxmaj the refrigerated stuff from the grocery store goes bad right away and</td>\n",
       "      <td>positive</td>\n",
       "    </tr>\n",
       "    <tr>\n",
       "      <td>xxbos xxmaj yes , xxmaj virginia , was a very bad rabbit xxrep 4 . xxmaj when the mailman came , i ran excitedly out to meet him in the yard . xxmaj clad only in my fluffy lavendar slippers and a floral xxunk ... i am sure i was a ghastly sight ... but i just could nt wait one extra moment to finally get my hands on that</td>\n",
       "      <td>negative</td>\n",
       "    </tr>\n",
       "    <tr>\n",
       "      <td>xxbos xxmaj high xxmaj promise , xxmaj less xxmaj delivery xxmaj high xxmaj promise , xxmaj less xxmaj delivery \\n  i started growing tomatoes with my aerogarden about two months ago . i got my first flower a few days ago , the first step towards tomatoes . xxmaj unfortunately , the pump on the device stopped working the next day . \\n \\n  xxmaj the xxup faq</td>\n",
       "      <td>negative</td>\n",
       "    </tr>\n",
       "    <tr>\n",
       "      <td>xxbos xxmaj kittties xxmaj liked at first , xxmaj then xxmaj turned xxmaj up xxmaj nose xxmaj when i initially ordered this xxmaj whiskas xxmaj perfectly xxmaj chicken for my cats , they liked it xxup ok . xxmaj they did not wolf it down , but they would eat it without complaint . \\n \\n  xxup the xxup feline xxup eeding xxup scenario xxup at xxup my xxup</td>\n",
       "      <td>positive</td>\n",
       "    </tr>\n",
       "  </tbody>\n",
       "</table>"
      ],
      "text/plain": [
       "<IPython.core.display.HTML object>"
      ]
     },
     "metadata": {},
     "output_type": "display_data"
    }
   ],
   "source": [
    "data_clas.show_batch()"
   ]
  },
  {
   "cell_type": "markdown",
   "metadata": {},
   "source": [
    "## Train the model"
   ]
  },
  {
   "cell_type": "markdown",
   "metadata": {},
   "source": [
    "We load the previously trained language model's encoder."
   ]
  },
  {
   "cell_type": "code",
   "execution_count": 65,
   "metadata": {},
   "outputs": [],
   "source": [
    "learn = text_classifier_learner(data_clas, AWD_LSTM, drop_mult=0.5)\n",
    "learn.load_encoder('full-encoder')"
   ]
  },
  {
   "cell_type": "code",
   "execution_count": 44,
   "metadata": {},
   "outputs": [
    {
     "data": {
      "text/html": [],
      "text/plain": [
       "<IPython.core.display.HTML object>"
      ]
     },
     "metadata": {},
     "output_type": "display_data"
    },
    {
     "name": "stdout",
     "output_type": "stream",
     "text": [
      "LR Finder is complete, type {learner_name}.recorder.plot() to see the graph.\n"
     ]
    }
   ],
   "source": [
    "learn.lr_find()"
   ]
  },
  {
   "cell_type": "code",
   "execution_count": 167,
   "metadata": {},
   "outputs": [
    {
     "data": {
      "image/png": "[encoded data removed]",
      "text/plain": [
       "<Figure size 432x288 with 1 Axes>"
      ]
     },
     "metadata": {
      "needs_background": "light"
     },
     "output_type": "display_data"
    }
   ],
   "source": [
    "learn.recorder.plot()"
   ]
  },
  {
   "cell_type": "code",
   "execution_count": 66,
   "metadata": {},
   "outputs": [
    {
     "data": {
      "text/html": [
       "<table border=\"1\" class=\"dataframe\">\n",
       "  <thead>\n",
       "    <tr style=\"text-align: left;\">\n",
       "      <th>epoch</th>\n",
       "      <th>train_loss</th>\n",
       "      <th>valid_loss</th>\n",
       "      <th>accuracy</th>\n",
       "      <th>time</th>\n",
       "    </tr>\n",
       "  </thead>\n",
       "  <tbody>\n",
       "    <tr>\n",
       "      <td>0</td>\n",
       "      <td>0.228080</td>\n",
       "      <td>0.163478</td>\n",
       "      <td>0.931494</td>\n",
       "      <td>10:48</td>\n",
       "    </tr>\n",
       "    <tr>\n",
       "      <td>1</td>\n",
       "      <td>0.210666</td>\n",
       "      <td>0.149432</td>\n",
       "      <td>0.935030</td>\n",
       "      <td>11:35</td>\n",
       "    </tr>\n",
       "    <tr>\n",
       "      <td>2</td>\n",
       "      <td>0.201674</td>\n",
       "      <td>0.175998</td>\n",
       "      <td>0.935250</td>\n",
       "      <td>13:04</td>\n",
       "    </tr>\n",
       "  </tbody>\n",
       "</table>"
      ],
      "text/plain": [
       "<IPython.core.display.HTML object>"
      ]
     },
     "metadata": {},
     "output_type": "display_data"
    }
   ],
   "source": [
    "learn.fit_one_cycle(3, 3e-2, moms=(0.8,0.7))"
   ]
  },
  {
   "cell_type": "code",
   "execution_count": 67,
   "metadata": {},
   "outputs": [],
   "source": [
    "learn.save('full-classifier-1')"
   ]
  },
  {
   "cell_type": "code",
   "execution_count": 68,
   "metadata": {},
   "outputs": [],
   "source": [
    "learn.load('full-classifier-1');"
   ]
  },
  {
   "cell_type": "code",
   "execution_count": 69,
   "metadata": {},
   "outputs": [],
   "source": [
    "learn.freeze_to(-2)"
   ]
  },
  {
   "cell_type": "code",
   "execution_count": 70,
   "metadata": {},
   "outputs": [
    {
     "data": {
      "text/html": [],
      "text/plain": [
       "<IPython.core.display.HTML object>"
      ]
     },
     "metadata": {},
     "output_type": "display_data"
    },
    {
     "name": "stdout",
     "output_type": "stream",
     "text": [
      "LR Finder is complete, type {learner_name}.recorder.plot() to see the graph.\n"
     ]
    }
   ],
   "source": [
    "learn.lr_find()"
   ]
  },
  {
   "cell_type": "code",
   "execution_count": 71,
   "metadata": {},
   "outputs": [
    {
     "data": {
      "image/png": "[encoded data removed]",
      "text/plain": [
       "<Figure size 432x288 with 1 Axes>"
      ]
     },
     "metadata": {
      "needs_background": "light"
     },
     "output_type": "display_data"
    }
   ],
   "source": [
    "learn.recorder.plot()"
   ]
  },
  {
   "cell_type": "code",
   "execution_count": 72,
   "metadata": {},
   "outputs": [
    {
     "data": {
      "text/html": [
       "<table border=\"1\" class=\"dataframe\">\n",
       "  <thead>\n",
       "    <tr style=\"text-align: left;\">\n",
       "      <th>epoch</th>\n",
       "      <th>train_loss</th>\n",
       "      <th>valid_loss</th>\n",
       "      <th>accuracy</th>\n",
       "      <th>time</th>\n",
       "    </tr>\n",
       "  </thead>\n",
       "  <tbody>\n",
       "    <tr>\n",
       "      <td>0</td>\n",
       "      <td>0.152440</td>\n",
       "      <td>0.128459</td>\n",
       "      <td>0.947820</td>\n",
       "      <td>12:11</td>\n",
       "    </tr>\n",
       "    <tr>\n",
       "      <td>1</td>\n",
       "      <td>0.139513</td>\n",
       "      <td>0.120670</td>\n",
       "      <td>0.951074</td>\n",
       "      <td>12:25</td>\n",
       "    </tr>\n",
       "    <tr>\n",
       "      <td>2</td>\n",
       "      <td>0.140776</td>\n",
       "      <td>0.120183</td>\n",
       "      <td>0.951294</td>\n",
       "      <td>15:37</td>\n",
       "    </tr>\n",
       "  </tbody>\n",
       "</table>"
      ],
      "text/plain": [
       "<IPython.core.display.HTML object>"
      ]
     },
     "metadata": {},
     "output_type": "display_data"
    }
   ],
   "source": [
    "learn.fit_one_cycle(3, slice(1e-3/(2.6**4),1e-3), moms=(0.8,0.7))"
   ]
  },
  {
   "cell_type": "code",
   "execution_count": 73,
   "metadata": {},
   "outputs": [],
   "source": [
    "learn.save('full-classifier-2')"
   ]
  },
  {
   "cell_type": "code",
   "execution_count": 74,
   "metadata": {},
   "outputs": [],
   "source": [
    "learn.load('full-classifier-2');"
   ]
  },
  {
   "cell_type": "code",
   "execution_count": 75,
   "metadata": {},
   "outputs": [],
   "source": [
    "learn.freeze_to(-3)"
   ]
  },
  {
   "cell_type": "code",
   "execution_count": 76,
   "metadata": {},
   "outputs": [
    {
     "data": {
      "text/html": [],
      "text/plain": [
       "<IPython.core.display.HTML object>"
      ]
     },
     "metadata": {},
     "output_type": "display_data"
    },
    {
     "name": "stdout",
     "output_type": "stream",
     "text": [
      "LR Finder is complete, type {learner_name}.recorder.plot() to see the graph.\n"
     ]
    }
   ],
   "source": [
    "learn.lr_find()"
   ]
  },
  {
   "cell_type": "code",
   "execution_count": 77,
   "metadata": {},
   "outputs": [
    {
     "data": {
      "image/png": "[encoded data removed]",
      "text/plain": [
       "<Figure size 432x288 with 1 Axes>"
      ]
     },
     "metadata": {
      "needs_background": "light"
     },
     "output_type": "display_data"
    }
   ],
   "source": [
    "learn.recorder.plot()"
   ]
  },
  {
   "cell_type": "code",
   "execution_count": 78,
   "metadata": {},
   "outputs": [
    {
     "data": {
      "text/html": [
       "<table border=\"1\" class=\"dataframe\">\n",
       "  <thead>\n",
       "    <tr style=\"text-align: left;\">\n",
       "      <th>epoch</th>\n",
       "      <th>train_loss</th>\n",
       "      <th>valid_loss</th>\n",
       "      <th>accuracy</th>\n",
       "      <th>time</th>\n",
       "    </tr>\n",
       "  </thead>\n",
       "  <tbody>\n",
       "    <tr>\n",
       "      <td>0</td>\n",
       "      <td>0.133763</td>\n",
       "      <td>0.123140</td>\n",
       "      <td>0.951171</td>\n",
       "      <td>18:02</td>\n",
       "    </tr>\n",
       "    <tr>\n",
       "      <td>1</td>\n",
       "      <td>0.135237</td>\n",
       "      <td>0.123561</td>\n",
       "      <td>0.950432</td>\n",
       "      <td>17:34</td>\n",
       "    </tr>\n",
       "    <tr>\n",
       "      <td>2</td>\n",
       "      <td>0.124796</td>\n",
       "      <td>0.119778</td>\n",
       "      <td>0.951725</td>\n",
       "      <td>20:24</td>\n",
       "    </tr>\n",
       "  </tbody>\n",
       "</table>"
      ],
      "text/plain": [
       "<IPython.core.display.HTML object>"
      ]
     },
     "metadata": {},
     "output_type": "display_data"
    }
   ],
   "source": [
    "learn.fit_one_cycle(3, slice(1e-4/(2.6**4),1e-4), moms=(0.8,0.7))"
   ]
  },
  {
   "cell_type": "code",
   "execution_count": 79,
   "metadata": {},
   "outputs": [],
   "source": [
    "learn.save('full-classifier-3')"
   ]
  },
  {
   "cell_type": "code",
   "execution_count": 80,
   "metadata": {},
   "outputs": [],
   "source": [
    "learn.load('full-classifier-3');"
   ]
  },
  {
   "cell_type": "code",
   "execution_count": 81,
   "metadata": {},
   "outputs": [],
   "source": [
    "learn.unfreeze()"
   ]
  },
  {
   "cell_type": "code",
   "execution_count": 82,
   "metadata": {},
   "outputs": [
    {
     "data": {
      "text/html": [],
      "text/plain": [
       "<IPython.core.display.HTML object>"
      ]
     },
     "metadata": {},
     "output_type": "display_data"
    },
    {
     "name": "stdout",
     "output_type": "stream",
     "text": [
      "LR Finder is complete, type {learner_name}.recorder.plot() to see the graph.\n"
     ]
    }
   ],
   "source": [
    "learn.lr_find()"
   ]
  },
  {
   "cell_type": "code",
   "execution_count": 83,
   "metadata": {},
   "outputs": [
    {
     "data": {
      "image/png": "[encoded data removed]",
      "text/plain": [
       "<Figure size 432x288 with 1 Axes>"
      ]
     },
     "metadata": {
      "needs_background": "light"
     },
     "output_type": "display_data"
    }
   ],
   "source": [
    "learn.recorder.plot()"
   ]
  },
  {
   "cell_type": "code",
   "execution_count": 84,
   "metadata": {},
   "outputs": [
    {
     "data": {
      "text/html": [
       "<table border=\"1\" class=\"dataframe\">\n",
       "  <thead>\n",
       "    <tr style=\"text-align: left;\">\n",
       "      <th>epoch</th>\n",
       "      <th>train_loss</th>\n",
       "      <th>valid_loss</th>\n",
       "      <th>accuracy</th>\n",
       "      <th>time</th>\n",
       "    </tr>\n",
       "  </thead>\n",
       "  <tbody>\n",
       "    <tr>\n",
       "      <td>0</td>\n",
       "      <td>0.139406</td>\n",
       "      <td>0.119188</td>\n",
       "      <td>0.951937</td>\n",
       "      <td>25:55</td>\n",
       "    </tr>\n",
       "    <tr>\n",
       "      <td>1</td>\n",
       "      <td>0.123554</td>\n",
       "      <td>0.115854</td>\n",
       "      <td>0.953344</td>\n",
       "      <td>27:34</td>\n",
       "    </tr>\n",
       "    <tr>\n",
       "      <td>2</td>\n",
       "      <td>0.115928</td>\n",
       "      <td>0.117962</td>\n",
       "      <td>0.953379</td>\n",
       "      <td>24:45</td>\n",
       "    </tr>\n",
       "  </tbody>\n",
       "</table>"
      ],
      "text/plain": [
       "<IPython.core.display.HTML object>"
      ]
     },
     "metadata": {},
     "output_type": "display_data"
    }
   ],
   "source": [
    "learn.fit_one_cycle(3, slice(1e-3/(2.6**4), 1e-3), moms=(0.8,0.7))"
   ]
  },
  {
   "cell_type": "markdown",
   "metadata": {},
   "source": [
    "We could still continue training since accuracy keeps improving."
   ]
  },
  {
   "cell_type": "code",
   "execution_count": 85,
   "metadata": {},
   "outputs": [],
   "source": [
    "learn.save('full-classifier-final')"
   ]
  },
  {
   "cell_type": "code",
   "execution_count": 86,
   "metadata": {},
   "outputs": [],
   "source": [
    "learn.load('full-classifier-final');"
   ]
  },
  {
   "cell_type": "code",
   "execution_count": 100,
   "metadata": {},
   "outputs": [
    {
     "data": {
      "text/html": [
       "<table border=\"1\" class=\"dataframe\">\n",
       "  <thead>\n",
       "    <tr style=\"text-align: right;\">\n",
       "      <th>text</th>\n",
       "      <th>target</th>\n",
       "      <th>prediction</th>\n",
       "    </tr>\n",
       "  </thead>\n",
       "  <tbody>\n",
       "    <tr>\n",
       "      <td>xxbos xxmaj works xxup great - you xxup have xxup to follow the instructions - read on xxmaj have had serious gopher problems for xxup years . xxmaj most effective up to this point have been ( for me ) the \" smoke bombs \" . those cost about $ 7 for 4 of them , and for them to be successful i needed to locate about 10 or so</td>\n",
       "      <td>positive</td>\n",
       "      <td>positive</td>\n",
       "    </tr>\n",
       "    <tr>\n",
       "      <td>xxbos xxmaj constipation xxrep 5 ! xxmaj we breastfeed our month old boy , but since his xxunk level was still high , doctors recommended to switch to formula for 48 hours . xxmaj we started with xxmaj similac xxmaj advance ( xxmaj shield xxmaj plus ) which we still had from hospital . xxmaj first 24 hours were wonderful in terms of pooping , then we decided to switch</td>\n",
       "      <td>negative</td>\n",
       "      <td>positive</td>\n",
       "    </tr>\n",
       "    <tr>\n",
       "      <td>xxbos xxmaj spookylicious xxmaj pop - xxmaj tarts : a xxmaj cautionary xxmaj tale . xxmaj spookylicious xxmaj pop - xxmaj tarts : a xxmaj cautionary xxmaj tale . \\n \\n  xxmaj once upon a time , a long time ago in the far away land of last xxmaj october , a good wife and a bad husband bought xxmaj halloween xxmaj pop - xxmaj tarts and they were</td>\n",
       "      <td>positive</td>\n",
       "      <td>positive</td>\n",
       "    </tr>\n",
       "  </tbody>\n",
       "</table>"
      ],
      "text/plain": [
       "<IPython.core.display.HTML object>"
      ]
     },
     "metadata": {},
     "output_type": "display_data"
    }
   ],
   "source": [
    "learn.show_results(rows=3)"
   ]
  },
  {
   "cell_type": "markdown",
   "metadata": {},
   "source": [
    "### Try out some predictions."
   ]
  },
  {
   "cell_type": "code",
   "execution_count": 135,
   "metadata": {},
   "outputs": [
    {
     "data": {
      "text/plain": [
       "(Category negative, tensor(0), tensor([0.9881, 0.0119]))"
      ]
     },
     "execution_count": 135,
     "metadata": {},
     "output_type": "execute_result"
    }
   ],
   "source": [
    "learn.predict(\"What a terrible thing.\")"
   ]
  },
  {
   "cell_type": "code",
   "execution_count": 136,
   "metadata": {},
   "outputs": [
    {
     "data": {
      "text/plain": [
       "(Category positive, tensor(1), tensor([0.0017, 0.9983]))"
      ]
     },
     "execution_count": 136,
     "metadata": {},
     "output_type": "execute_result"
    }
   ],
   "source": [
    "learn.predict(\"I really loved it.\")"
   ]
  },
  {
   "cell_type": "markdown",
   "metadata": {},
   "source": [
    "## Evaluation on test data"
   ]
  },
  {
   "cell_type": "markdown",
   "metadata": {},
   "source": [
    "Create a test set using the subset of the data that we reserved for this purpose and did not touch."
   ]
  },
  {
   "cell_type": "code",
   "execution_count": 132,
   "metadata": {},
   "outputs": [],
   "source": [
    "data_clas_test = (TextList.from_df(df, cols='review/summary_and_text', vocab=data_lm.vocab)\n",
    "                  .split_by_idxs(train_idx=np.arange(1000), \n",
    "                                 valid_idx=np.arange(last_valid_idx, n_reviews))\n",
    "                  .label_from_df(cols='label')\n",
    "                  .databunch(bs=bs))"
   ]
  },
  {
   "cell_type": "code",
   "execution_count": 137,
   "metadata": {},
   "outputs": [],
   "source": [
    "loss, acc = learn.validate(data_clas_test.valid_dl)"
   ]
  },
  {
   "cell_type": "code",
   "execution_count": 139,
   "metadata": {},
   "outputs": [
    {
     "name": "stdout",
     "output_type": "stream",
     "text": [
      "Test set accuracy is 0.9511268138885498\n"
     ]
    }
   ],
   "source": [
    "print(f'Test set accuracy is {acc}')"
   ]
  },
  {
   "cell_type": "markdown",
   "metadata": {},
   "source": [
    "# Conclusion\n",
    "\n",
    "### Suggestions for further improvement\n",
    "- Retrain on all of the data (including test and validation) before final deployment\n",
    "- Train the language model and classifier for longer since they were not overfitting yet\n",
    "- Tune hyperparameters\n",
    "- Fine-tune the language model on all Amazon reviews irrespective of the product category (not just for fine foods). It is very likely that a positive/negative review for an electronic appliance for example will contain very similar words as a review for food [available here](http://jmcauley.ucsd.edu/data/amazon/)\n",
    "- Train a regression model classifying the sentiment in the range 1-5. I made a decision to label the ratings 3,4,5 as positive and 1,2 as negative but some users might consider a rating of 3 already to be a negative one\n",
    "- Apply some forms of data augmentation to the text"
   ]
  }
 ],
 "metadata": {
  "kernelspec": {
   "display_name": "Python 3",
   "language": "python",
   "name": "python3"
  },
  "language_info": {
   "codemirror_mode": {
    "name": "ipython",
    "version": 3
   },
   "file_extension": ".py",
   "mimetype": "text/x-python",
   "name": "python",
   "nbconvert_exporter": "python",
   "pygments_lexer": "ipython3",
   "version": "3.7.2"
  }
 },
 "nbformat": 4,
 "nbformat_minor": 2
}
